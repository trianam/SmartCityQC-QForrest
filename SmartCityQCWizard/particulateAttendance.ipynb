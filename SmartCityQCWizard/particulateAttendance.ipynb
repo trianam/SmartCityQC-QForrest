{
 "cells": [
  {
   "cell_type": "code",
   "id": "acf93894-4530-445d-b41c-b6cabdc498fd",
   "metadata": {
    "ExecuteTime": {
     "end_time": "2024-10-22T14:42:41.246293Z",
     "start_time": "2024-10-22T14:42:41.190231Z"
    }
   },
   "source": [
    "import pandas as pd\n",
    "import seaborn as sns\n",
    "import matplotlib.pyplot as plt\n",
    "import numpy as np\n",
    "\n",
    "dfAtt = pd.read_csv(r\"unique_attendance_15/presenza_tot.csv\")\n",
    "\n",
    "# Read the CSV file\n",
    "# Replace 'your_file.csv' with your actual file path\n",
    "df10 = pd.read_csv('particulate_matter/PM10-sensors.csv')\n",
    "\n",
    "\n",
    "df10.head\n",
    "# Display initial info about NaN values\n",
    "print(\"Initial NaN count per column:\")\n",
    "print(df10.isnull().sum())\n",
    "\n",
    "# Option 1: Remove rows with any NaN values\n",
    "df10_clean = df10.dropna()\n",
    "\n",
    "# Option 2: Fill NaN values with mean of the column\n",
    "#df10_clean = df10.fillna(df10_clean.mean())\n",
    "\n",
    "# Option 3: Fill NaN values with median of the column\n",
    "# df_clean = df.fillna(df.median())\n",
    "\n",
    "# Option 4: Fill NaN values with 0\n",
    "df10_clean = df10.fillna(0)\n",
    "\n",
    "print(\"\\nShape before cleaning:\", df10.shape)\n",
    "print(\"Shape after cleaning:\", df10_clean.shape)\n",
    "\n"
   ],
   "outputs": [
    {
     "name": "stdout",
     "output_type": "stream",
     "text": [
      "Initial NaN count per column:\n",
      "Time          0\n",
      "Sensor1     231\n",
      "Sensor2    2313\n",
      "Sensor3    1703\n",
      "dtype: int64\n",
      "\n",
      "Shape before cleaning: (10005, 4)\n",
      "Shape after cleaning: (10005, 4)\n"
     ]
    }
   ],
   "execution_count": 2
  },
  {
   "cell_type": "code",
   "id": "a9db0801-503d-4aac-ae77-0ddf21564c8b",
   "metadata": {
    "ExecuteTime": {
     "end_time": "2024-10-22T14:42:50.258718Z",
     "start_time": "2024-10-22T14:42:50.244231Z"
    }
   },
   "source": [
    "df25 = pd.read_csv('particulate_matter/PM2.5-sensors.csv')\n",
    "\n",
    "\n",
    "df25.head\n",
    "# Display initial info about NaN values\n",
    "print(\"Initial NaN count per column:\")\n",
    "print(df25.isnull().sum())\n",
    "\n",
    "# Option 1: Remove rows with any NaN values\n",
    "#df_clean = df10.dropna()\n",
    "\n",
    "# Option 2: Fill NaN values with mean of the column\n",
    "#df25_clean = df25.fillna(df25.mean())\n",
    "\n",
    "# Option 3: Fill NaN values with median of the column\n",
    "# df_clean = df.fillna(df.median())\n",
    "\n",
    "# Option 4: Fill NaN values with 0\n",
    "df25_clean = df25.fillna(0)\n",
    "\n",
    "print(\"\\nShape before cleaning:\", df25.shape)\n",
    "print(\"Shape after cleaning:\", df25_clean.shape)"
   ],
   "outputs": [
    {
     "name": "stdout",
     "output_type": "stream",
     "text": [
      "Initial NaN count per column:\n",
      "Time          0\n",
      "Sensor1     231\n",
      "Sensor2    2313\n",
      "Sensor3    1703\n",
      "dtype: int64\n",
      "\n",
      "Shape before cleaning: (10005, 4)\n",
      "Shape after cleaning: (10005, 4)\n"
     ]
    }
   ],
   "execution_count": 3
  },
  {
   "metadata": {
    "ExecuteTime": {
     "end_time": "2024-10-22T14:46:04.139858Z",
     "start_time": "2024-10-22T14:46:04.121579Z"
    }
   },
   "cell_type": "code",
   "source": [
    "dfAtt0 =dfAtt[dfAtt['areaAnalisi'].str.contains('Intero Comune')]\n",
    "new_cols = list(dfAtt.columns)\n",
    "normalized_data = (dfAtt0['value'] - dfAtt0['value'].min()) / (dfAtt0['value'].max() - dfAtt0['value'].min())"
   ],
   "id": "873bf38221492e0b",
   "outputs": [],
   "execution_count": 6
  },
  {
   "metadata": {
    "ExecuteTime": {
     "end_time": "2024-10-22T14:49:04.459485Z",
     "start_time": "2024-10-22T14:49:04.455916Z"
    }
   },
   "cell_type": "code",
   "source": "normalized_data",
   "id": "7cda00aca4800cf8",
   "outputs": [
    {
     "data": {
      "text/plain": [
       "0        0.054545\n",
       "1        0.027972\n",
       "2        0.027972\n",
       "3        0.125874\n",
       "4        0.076923\n",
       "           ...   \n",
       "10000    0.104895\n",
       "10001    0.063636\n",
       "10002    0.076923\n",
       "10003    0.062238\n",
       "10004    0.050350\n",
       "Name: Sensor1, Length: 10005, dtype: float64"
      ]
     },
     "execution_count": 10,
     "metadata": {},
     "output_type": "execute_result"
    }
   ],
   "execution_count": 10
  },
  {
   "cell_type": "code",
   "id": "6ac4907c-7c86-4e66-96ad-61e4c65ca072",
   "metadata": {
    "jupyter": {
     "is_executing": true
    },
    "ExecuteTime": {
     "start_time": "2024-10-22T14:49:28.235072Z"
    }
   },
   "source": [
    "# Create a figure with subplots: line plots and correlation heatmap\n",
    "fig = plt.figure(figsize=(20, 12))\n",
    "\n",
    "# Define grid layout\n",
    "gs = fig.add_gridspec(2, 2)\n",
    "\n",
    "# 1. Line plots of all numeric columns\n",
    "ax1 = fig.add_subplot(gs[0, :])  # Top row, full width\n",
    "\n",
    "# Get numeric columns\n",
    "numeric_cols = df10_clean.select_dtypes(include=[np.number]).columns\n",
    "\n",
    "# Plot each numeric column\n",
    "for column in numeric_cols:\n",
    "    # Normalize data to make trends comparable\n",
    "    normalized_data = (df10_clean[column] - df10_clean[column].min()) / (df10_clean[column].max() - df10_clean[column].min())\n",
    "    # ax1.plot(normalized_data.index, normalized_data, label=column, linewidth=2, alpha=0.7)\n",
    "    ax1.plot(df10_clean.Time, normalized_data, label=column, linewidth=2, alpha=0.7)\n",
    "\n",
    "ax1.set_title('Normalized Data Trends Over Time P10', pad=20)\n",
    "ax1.set_xlabel('Index')\n",
    "ax1.set_ylabel('Normalized Values')\n",
    "ax1.legend(bbox_to_anchor=(1.05, 1), loc='upper left')\n",
    "ax1.grid(True, linestyle='--', alpha=0.7)\n",
    "\n",
    "# 2. plot 25\n",
    "ax2 = fig.add_subplot(gs[1, :])  # Bottom row, full width\n",
    "\n",
    "\n",
    "# Get numeric columns\n",
    "numeric_cols = df25_clean.select_dtypes(include=[np.number]).columns\n",
    "\n",
    "# Plot each numeric column\n",
    "for column in numeric_cols:\n",
    "    # Normalize data to make trends comparable\n",
    "    normalized_data = (df25_clean[column] - df25_clean[column].min()) / \\\n",
    "                     (df25_clean[column].max() - df25_clean[column].min())\n",
    "    ax2.plot(normalized_data.index, normalized_data, label=column, linewidth=2, alpha=0.7)\n",
    "\n",
    "ax2.set_title('Normalized Data Trends Over Time P2.5', pad=20)\n",
    "ax2.set_xlabel('Index')\n",
    "ax2.set_ylabel('Normalized Values')\n",
    "ax2.legend(bbox_to_anchor=(1.05, 1), loc='upper left')\n",
    "ax2.grid(True, linestyle='--', alpha=0.7)\n",
    "\n",
    "#\n",
    "\n",
    "\n",
    "# Adjust layout to prevent overlap\n",
    "plt.tight_layout()\n",
    "\n",
    "# Show the plot\n",
    "plt.show()"
   ],
   "outputs": [
    {
     "ename": "KeyboardInterrupt",
     "evalue": "",
     "output_type": "error",
     "traceback": [
      "\u001B[0;31m---------------------------------------------------------------------------\u001B[0m",
      "\u001B[0;31mKeyboardInterrupt\u001B[0m                         Traceback (most recent call last)",
      "Cell \u001B[0;32mIn[11], line 50\u001B[0m\n\u001B[1;32m     44\u001B[0m ax2\u001B[38;5;241m.\u001B[39mgrid(\u001B[38;5;28;01mTrue\u001B[39;00m, linestyle\u001B[38;5;241m=\u001B[39m\u001B[38;5;124m'\u001B[39m\u001B[38;5;124m--\u001B[39m\u001B[38;5;124m'\u001B[39m, alpha\u001B[38;5;241m=\u001B[39m\u001B[38;5;241m0.7\u001B[39m)\n\u001B[1;32m     46\u001B[0m \u001B[38;5;66;03m#\u001B[39;00m\n\u001B[1;32m     47\u001B[0m \n\u001B[1;32m     48\u001B[0m \n\u001B[1;32m     49\u001B[0m \u001B[38;5;66;03m# Adjust layout to prevent overlap\u001B[39;00m\n\u001B[0;32m---> 50\u001B[0m \u001B[43mplt\u001B[49m\u001B[38;5;241;43m.\u001B[39;49m\u001B[43mtight_layout\u001B[49m\u001B[43m(\u001B[49m\u001B[43m)\u001B[49m\n\u001B[1;32m     52\u001B[0m \u001B[38;5;66;03m# Show the plot\u001B[39;00m\n\u001B[1;32m     53\u001B[0m plt\u001B[38;5;241m.\u001B[39mshow()\n",
      "File \u001B[0;32m~/anaconda3/lib/python3.9/site-packages/matplotlib/pyplot.py:2599\u001B[0m, in \u001B[0;36mtight_layout\u001B[0;34m(pad, h_pad, w_pad, rect)\u001B[0m\n\u001B[1;32m   2591\u001B[0m \u001B[38;5;129m@_copy_docstring_and_deprecators\u001B[39m(Figure\u001B[38;5;241m.\u001B[39mtight_layout)\n\u001B[1;32m   2592\u001B[0m \u001B[38;5;28;01mdef\u001B[39;00m \u001B[38;5;21mtight_layout\u001B[39m(\n\u001B[1;32m   2593\u001B[0m     \u001B[38;5;241m*\u001B[39m,\n\u001B[0;32m   (...)\u001B[0m\n\u001B[1;32m   2597\u001B[0m     rect: \u001B[38;5;28mtuple\u001B[39m[\u001B[38;5;28mfloat\u001B[39m, \u001B[38;5;28mfloat\u001B[39m, \u001B[38;5;28mfloat\u001B[39m, \u001B[38;5;28mfloat\u001B[39m] \u001B[38;5;241m|\u001B[39m \u001B[38;5;28;01mNone\u001B[39;00m \u001B[38;5;241m=\u001B[39m \u001B[38;5;28;01mNone\u001B[39;00m,\n\u001B[1;32m   2598\u001B[0m ) \u001B[38;5;241m-\u001B[39m\u001B[38;5;241m>\u001B[39m \u001B[38;5;28;01mNone\u001B[39;00m:\n\u001B[0;32m-> 2599\u001B[0m     \u001B[43mgcf\u001B[49m\u001B[43m(\u001B[49m\u001B[43m)\u001B[49m\u001B[38;5;241;43m.\u001B[39;49m\u001B[43mtight_layout\u001B[49m\u001B[43m(\u001B[49m\u001B[43mpad\u001B[49m\u001B[38;5;241;43m=\u001B[39;49m\u001B[43mpad\u001B[49m\u001B[43m,\u001B[49m\u001B[43m \u001B[49m\u001B[43mh_pad\u001B[49m\u001B[38;5;241;43m=\u001B[39;49m\u001B[43mh_pad\u001B[49m\u001B[43m,\u001B[49m\u001B[43m \u001B[49m\u001B[43mw_pad\u001B[49m\u001B[38;5;241;43m=\u001B[39;49m\u001B[43mw_pad\u001B[49m\u001B[43m,\u001B[49m\u001B[43m \u001B[49m\u001B[43mrect\u001B[49m\u001B[38;5;241;43m=\u001B[39;49m\u001B[43mrect\u001B[49m\u001B[43m)\u001B[49m\n",
      "File \u001B[0;32m~/anaconda3/lib/python3.9/site-packages/matplotlib/figure.py:3540\u001B[0m, in \u001B[0;36mFigure.tight_layout\u001B[0;34m(self, pad, h_pad, w_pad, rect)\u001B[0m\n\u001B[1;32m   3538\u001B[0m previous_engine \u001B[38;5;241m=\u001B[39m \u001B[38;5;28mself\u001B[39m\u001B[38;5;241m.\u001B[39mget_layout_engine()\n\u001B[1;32m   3539\u001B[0m \u001B[38;5;28mself\u001B[39m\u001B[38;5;241m.\u001B[39mset_layout_engine(engine)\n\u001B[0;32m-> 3540\u001B[0m \u001B[43mengine\u001B[49m\u001B[38;5;241;43m.\u001B[39;49m\u001B[43mexecute\u001B[49m\u001B[43m(\u001B[49m\u001B[38;5;28;43mself\u001B[39;49m\u001B[43m)\u001B[49m\n\u001B[1;32m   3541\u001B[0m \u001B[38;5;28;01mif\u001B[39;00m previous_engine \u001B[38;5;129;01mis\u001B[39;00m \u001B[38;5;129;01mnot\u001B[39;00m \u001B[38;5;28;01mNone\u001B[39;00m \u001B[38;5;129;01mand\u001B[39;00m \u001B[38;5;129;01mnot\u001B[39;00m \u001B[38;5;28misinstance\u001B[39m(\n\u001B[1;32m   3542\u001B[0m     previous_engine, (TightLayoutEngine, PlaceHolderLayoutEngine)\n\u001B[1;32m   3543\u001B[0m ):\n\u001B[1;32m   3544\u001B[0m     _api\u001B[38;5;241m.\u001B[39mwarn_external(\u001B[38;5;124m'\u001B[39m\u001B[38;5;124mThe figure layout has changed to tight\u001B[39m\u001B[38;5;124m'\u001B[39m)\n",
      "File \u001B[0;32m~/anaconda3/lib/python3.9/site-packages/matplotlib/layout_engine.py:183\u001B[0m, in \u001B[0;36mTightLayoutEngine.execute\u001B[0;34m(self, fig)\u001B[0m\n\u001B[1;32m    181\u001B[0m renderer \u001B[38;5;241m=\u001B[39m fig\u001B[38;5;241m.\u001B[39m_get_renderer()\n\u001B[1;32m    182\u001B[0m \u001B[38;5;28;01mwith\u001B[39;00m \u001B[38;5;28mgetattr\u001B[39m(renderer, \u001B[38;5;124m\"\u001B[39m\u001B[38;5;124m_draw_disabled\u001B[39m\u001B[38;5;124m\"\u001B[39m, nullcontext)():\n\u001B[0;32m--> 183\u001B[0m     kwargs \u001B[38;5;241m=\u001B[39m \u001B[43mget_tight_layout_figure\u001B[49m\u001B[43m(\u001B[49m\n\u001B[1;32m    184\u001B[0m \u001B[43m        \u001B[49m\u001B[43mfig\u001B[49m\u001B[43m,\u001B[49m\u001B[43m \u001B[49m\u001B[43mfig\u001B[49m\u001B[38;5;241;43m.\u001B[39;49m\u001B[43maxes\u001B[49m\u001B[43m,\u001B[49m\u001B[43m \u001B[49m\u001B[43mget_subplotspec_list\u001B[49m\u001B[43m(\u001B[49m\u001B[43mfig\u001B[49m\u001B[38;5;241;43m.\u001B[39;49m\u001B[43maxes\u001B[49m\u001B[43m)\u001B[49m\u001B[43m,\u001B[49m\u001B[43m \u001B[49m\u001B[43mrenderer\u001B[49m\u001B[43m,\u001B[49m\n\u001B[1;32m    185\u001B[0m \u001B[43m        \u001B[49m\u001B[43mpad\u001B[49m\u001B[38;5;241;43m=\u001B[39;49m\u001B[43minfo\u001B[49m\u001B[43m[\u001B[49m\u001B[38;5;124;43m'\u001B[39;49m\u001B[38;5;124;43mpad\u001B[39;49m\u001B[38;5;124;43m'\u001B[39;49m\u001B[43m]\u001B[49m\u001B[43m,\u001B[49m\u001B[43m \u001B[49m\u001B[43mh_pad\u001B[49m\u001B[38;5;241;43m=\u001B[39;49m\u001B[43minfo\u001B[49m\u001B[43m[\u001B[49m\u001B[38;5;124;43m'\u001B[39;49m\u001B[38;5;124;43mh_pad\u001B[39;49m\u001B[38;5;124;43m'\u001B[39;49m\u001B[43m]\u001B[49m\u001B[43m,\u001B[49m\u001B[43m \u001B[49m\u001B[43mw_pad\u001B[49m\u001B[38;5;241;43m=\u001B[39;49m\u001B[43minfo\u001B[49m\u001B[43m[\u001B[49m\u001B[38;5;124;43m'\u001B[39;49m\u001B[38;5;124;43mw_pad\u001B[39;49m\u001B[38;5;124;43m'\u001B[39;49m\u001B[43m]\u001B[49m\u001B[43m,\u001B[49m\n\u001B[1;32m    186\u001B[0m \u001B[43m        \u001B[49m\u001B[43mrect\u001B[49m\u001B[38;5;241;43m=\u001B[39;49m\u001B[43minfo\u001B[49m\u001B[43m[\u001B[49m\u001B[38;5;124;43m'\u001B[39;49m\u001B[38;5;124;43mrect\u001B[39;49m\u001B[38;5;124;43m'\u001B[39;49m\u001B[43m]\u001B[49m\u001B[43m)\u001B[49m\n\u001B[1;32m    187\u001B[0m \u001B[38;5;28;01mif\u001B[39;00m kwargs:\n\u001B[1;32m    188\u001B[0m     fig\u001B[38;5;241m.\u001B[39msubplots_adjust(\u001B[38;5;241m*\u001B[39m\u001B[38;5;241m*\u001B[39mkwargs)\n",
      "File \u001B[0;32m~/anaconda3/lib/python3.9/site-packages/matplotlib/_tight_layout.py:266\u001B[0m, in \u001B[0;36mget_tight_layout_figure\u001B[0;34m(fig, axes_list, subplotspec_list, renderer, pad, h_pad, w_pad, rect)\u001B[0m\n\u001B[1;32m    261\u001B[0m         \u001B[38;5;28;01mreturn\u001B[39;00m {}\n\u001B[1;32m    262\u001B[0m     span_pairs\u001B[38;5;241m.\u001B[39mappend((\n\u001B[1;32m    263\u001B[0m         \u001B[38;5;28mslice\u001B[39m(ss\u001B[38;5;241m.\u001B[39mrowspan\u001B[38;5;241m.\u001B[39mstart \u001B[38;5;241m*\u001B[39m div_row, ss\u001B[38;5;241m.\u001B[39mrowspan\u001B[38;5;241m.\u001B[39mstop \u001B[38;5;241m*\u001B[39m div_row),\n\u001B[1;32m    264\u001B[0m         \u001B[38;5;28mslice\u001B[39m(ss\u001B[38;5;241m.\u001B[39mcolspan\u001B[38;5;241m.\u001B[39mstart \u001B[38;5;241m*\u001B[39m div_col, ss\u001B[38;5;241m.\u001B[39mcolspan\u001B[38;5;241m.\u001B[39mstop \u001B[38;5;241m*\u001B[39m div_col)))\n\u001B[0;32m--> 266\u001B[0m kwargs \u001B[38;5;241m=\u001B[39m \u001B[43m_auto_adjust_subplotpars\u001B[49m\u001B[43m(\u001B[49m\u001B[43mfig\u001B[49m\u001B[43m,\u001B[49m\u001B[43m \u001B[49m\u001B[43mrenderer\u001B[49m\u001B[43m,\u001B[49m\n\u001B[1;32m    267\u001B[0m \u001B[43m                                  \u001B[49m\u001B[43mshape\u001B[49m\u001B[38;5;241;43m=\u001B[39;49m\u001B[43m(\u001B[49m\u001B[43mmax_nrows\u001B[49m\u001B[43m,\u001B[49m\u001B[43m \u001B[49m\u001B[43mmax_ncols\u001B[49m\u001B[43m)\u001B[49m\u001B[43m,\u001B[49m\n\u001B[1;32m    268\u001B[0m \u001B[43m                                  \u001B[49m\u001B[43mspan_pairs\u001B[49m\u001B[38;5;241;43m=\u001B[39;49m\u001B[43mspan_pairs\u001B[49m\u001B[43m,\u001B[49m\n\u001B[1;32m    269\u001B[0m \u001B[43m                                  \u001B[49m\u001B[43msubplot_list\u001B[49m\u001B[38;5;241;43m=\u001B[39;49m\u001B[43msubplot_list\u001B[49m\u001B[43m,\u001B[49m\n\u001B[1;32m    270\u001B[0m \u001B[43m                                  \u001B[49m\u001B[43max_bbox_list\u001B[49m\u001B[38;5;241;43m=\u001B[39;49m\u001B[43max_bbox_list\u001B[49m\u001B[43m,\u001B[49m\n\u001B[1;32m    271\u001B[0m \u001B[43m                                  \u001B[49m\u001B[43mpad\u001B[49m\u001B[38;5;241;43m=\u001B[39;49m\u001B[43mpad\u001B[49m\u001B[43m,\u001B[49m\u001B[43m \u001B[49m\u001B[43mh_pad\u001B[49m\u001B[38;5;241;43m=\u001B[39;49m\u001B[43mh_pad\u001B[49m\u001B[43m,\u001B[49m\u001B[43m \u001B[49m\u001B[43mw_pad\u001B[49m\u001B[38;5;241;43m=\u001B[39;49m\u001B[43mw_pad\u001B[49m\u001B[43m)\u001B[49m\n\u001B[1;32m    273\u001B[0m \u001B[38;5;66;03m# kwargs can be none if tight_layout fails...\u001B[39;00m\n\u001B[1;32m    274\u001B[0m \u001B[38;5;28;01mif\u001B[39;00m rect \u001B[38;5;129;01mis\u001B[39;00m \u001B[38;5;129;01mnot\u001B[39;00m \u001B[38;5;28;01mNone\u001B[39;00m \u001B[38;5;129;01mand\u001B[39;00m kwargs \u001B[38;5;129;01mis\u001B[39;00m \u001B[38;5;129;01mnot\u001B[39;00m \u001B[38;5;28;01mNone\u001B[39;00m:\n\u001B[1;32m    275\u001B[0m     \u001B[38;5;66;03m# if rect is given, the whole subplots area (including\u001B[39;00m\n\u001B[1;32m    276\u001B[0m     \u001B[38;5;66;03m# labels) will fit into the rect instead of the\u001B[39;00m\n\u001B[0;32m   (...)\u001B[0m\n\u001B[1;32m    280\u001B[0m     \u001B[38;5;66;03m# auto_adjust_subplotpars twice, where the second run\u001B[39;00m\n\u001B[1;32m    281\u001B[0m     \u001B[38;5;66;03m# with adjusted rect parameters.\u001B[39;00m\n",
      "File \u001B[0;32m~/anaconda3/lib/python3.9/site-packages/matplotlib/_tight_layout.py:82\u001B[0m, in \u001B[0;36m_auto_adjust_subplotpars\u001B[0;34m(fig, renderer, shape, span_pairs, subplot_list, ax_bbox_list, pad, h_pad, w_pad, rect)\u001B[0m\n\u001B[1;32m     80\u001B[0m \u001B[38;5;28;01mfor\u001B[39;00m ax \u001B[38;5;129;01min\u001B[39;00m subplots:\n\u001B[1;32m     81\u001B[0m     \u001B[38;5;28;01mif\u001B[39;00m ax\u001B[38;5;241m.\u001B[39mget_visible():\n\u001B[0;32m---> 82\u001B[0m         bb \u001B[38;5;241m+\u001B[39m\u001B[38;5;241m=\u001B[39m [\u001B[43mmartist\u001B[49m\u001B[38;5;241;43m.\u001B[39;49m\u001B[43m_get_tightbbox_for_layout_only\u001B[49m\u001B[43m(\u001B[49m\u001B[43max\u001B[49m\u001B[43m,\u001B[49m\u001B[43m \u001B[49m\u001B[43mrenderer\u001B[49m\u001B[43m)\u001B[49m]\n\u001B[1;32m     84\u001B[0m tight_bbox_raw \u001B[38;5;241m=\u001B[39m Bbox\u001B[38;5;241m.\u001B[39munion(bb)\n\u001B[1;32m     85\u001B[0m tight_bbox \u001B[38;5;241m=\u001B[39m fig\u001B[38;5;241m.\u001B[39mtransFigure\u001B[38;5;241m.\u001B[39minverted()\u001B[38;5;241m.\u001B[39mtransform_bbox(tight_bbox_raw)\n",
      "File \u001B[0;32m~/anaconda3/lib/python3.9/site-packages/matplotlib/artist.py:1411\u001B[0m, in \u001B[0;36m_get_tightbbox_for_layout_only\u001B[0;34m(obj, *args, **kwargs)\u001B[0m\n\u001B[1;32m   1405\u001B[0m \u001B[38;5;250m\u001B[39m\u001B[38;5;124;03m\"\"\"\u001B[39;00m\n\u001B[1;32m   1406\u001B[0m \u001B[38;5;124;03mMatplotlib's `.Axes.get_tightbbox` and `.Axis.get_tightbbox` support a\u001B[39;00m\n\u001B[1;32m   1407\u001B[0m \u001B[38;5;124;03m*for_layout_only* kwarg; this helper tries to use the kwarg but skips it\u001B[39;00m\n\u001B[1;32m   1408\u001B[0m \u001B[38;5;124;03mwhen encountering third-party subclasses that do not support it.\u001B[39;00m\n\u001B[1;32m   1409\u001B[0m \u001B[38;5;124;03m\"\"\"\u001B[39;00m\n\u001B[1;32m   1410\u001B[0m \u001B[38;5;28;01mtry\u001B[39;00m:\n\u001B[0;32m-> 1411\u001B[0m     \u001B[38;5;28;01mreturn\u001B[39;00m \u001B[43mobj\u001B[49m\u001B[38;5;241;43m.\u001B[39;49m\u001B[43mget_tightbbox\u001B[49m\u001B[43m(\u001B[49m\u001B[38;5;241;43m*\u001B[39;49m\u001B[43margs\u001B[49m\u001B[43m,\u001B[49m\u001B[43m \u001B[49m\u001B[38;5;241;43m*\u001B[39;49m\u001B[38;5;241;43m*\u001B[39;49m\u001B[43m{\u001B[49m\u001B[38;5;241;43m*\u001B[39;49m\u001B[38;5;241;43m*\u001B[39;49m\u001B[43mkwargs\u001B[49m\u001B[43m,\u001B[49m\u001B[43m \u001B[49m\u001B[38;5;124;43m\"\u001B[39;49m\u001B[38;5;124;43mfor_layout_only\u001B[39;49m\u001B[38;5;124;43m\"\u001B[39;49m\u001B[43m:\u001B[49m\u001B[43m \u001B[49m\u001B[38;5;28;43;01mTrue\u001B[39;49;00m\u001B[43m}\u001B[49m\u001B[43m)\u001B[49m\n\u001B[1;32m   1412\u001B[0m \u001B[38;5;28;01mexcept\u001B[39;00m \u001B[38;5;167;01mTypeError\u001B[39;00m:\n\u001B[1;32m   1413\u001B[0m     \u001B[38;5;28;01mreturn\u001B[39;00m obj\u001B[38;5;241m.\u001B[39mget_tightbbox(\u001B[38;5;241m*\u001B[39margs, \u001B[38;5;241m*\u001B[39m\u001B[38;5;241m*\u001B[39mkwargs)\n",
      "File \u001B[0;32m~/anaconda3/lib/python3.9/site-packages/matplotlib/_api/deprecation.py:454\u001B[0m, in \u001B[0;36mmake_keyword_only.<locals>.wrapper\u001B[0;34m(*args, **kwargs)\u001B[0m\n\u001B[1;32m    448\u001B[0m \u001B[38;5;28;01mif\u001B[39;00m \u001B[38;5;28mlen\u001B[39m(args) \u001B[38;5;241m>\u001B[39m name_idx:\n\u001B[1;32m    449\u001B[0m     warn_deprecated(\n\u001B[1;32m    450\u001B[0m         since, message\u001B[38;5;241m=\u001B[39m\u001B[38;5;124m\"\u001B[39m\u001B[38;5;124mPassing the \u001B[39m\u001B[38;5;132;01m%(name)s\u001B[39;00m\u001B[38;5;124m \u001B[39m\u001B[38;5;132;01m%(obj_type)s\u001B[39;00m\u001B[38;5;124m \u001B[39m\u001B[38;5;124m\"\u001B[39m\n\u001B[1;32m    451\u001B[0m         \u001B[38;5;124m\"\u001B[39m\u001B[38;5;124mpositionally is deprecated since Matplotlib \u001B[39m\u001B[38;5;132;01m%(since)s\u001B[39;00m\u001B[38;5;124m; the \u001B[39m\u001B[38;5;124m\"\u001B[39m\n\u001B[1;32m    452\u001B[0m         \u001B[38;5;124m\"\u001B[39m\u001B[38;5;124mparameter will become keyword-only \u001B[39m\u001B[38;5;132;01m%(removal)s\u001B[39;00m\u001B[38;5;124m.\u001B[39m\u001B[38;5;124m\"\u001B[39m,\n\u001B[1;32m    453\u001B[0m         name\u001B[38;5;241m=\u001B[39mname, obj_type\u001B[38;5;241m=\u001B[39m\u001B[38;5;124mf\u001B[39m\u001B[38;5;124m\"\u001B[39m\u001B[38;5;124mparameter of \u001B[39m\u001B[38;5;132;01m{\u001B[39;00mfunc\u001B[38;5;241m.\u001B[39m\u001B[38;5;18m__name__\u001B[39m\u001B[38;5;132;01m}\u001B[39;00m\u001B[38;5;124m()\u001B[39m\u001B[38;5;124m\"\u001B[39m)\n\u001B[0;32m--> 454\u001B[0m \u001B[38;5;28;01mreturn\u001B[39;00m \u001B[43mfunc\u001B[49m\u001B[43m(\u001B[49m\u001B[38;5;241;43m*\u001B[39;49m\u001B[43margs\u001B[49m\u001B[43m,\u001B[49m\u001B[43m \u001B[49m\u001B[38;5;241;43m*\u001B[39;49m\u001B[38;5;241;43m*\u001B[39;49m\u001B[43mkwargs\u001B[49m\u001B[43m)\u001B[49m\n",
      "File \u001B[0;32m~/anaconda3/lib/python3.9/site-packages/matplotlib/axes/_base.py:4398\u001B[0m, in \u001B[0;36m_AxesBase.get_tightbbox\u001B[0;34m(self, renderer, call_axes_locator, bbox_extra_artists, for_layout_only)\u001B[0m\n\u001B[1;32m   4396\u001B[0m         \u001B[38;5;28;01mif\u001B[39;00m ba:\n\u001B[1;32m   4397\u001B[0m             bb\u001B[38;5;241m.\u001B[39mappend(ba)\n\u001B[0;32m-> 4398\u001B[0m \u001B[38;5;28;43mself\u001B[39;49m\u001B[38;5;241;43m.\u001B[39;49m\u001B[43m_update_title_position\u001B[49m\u001B[43m(\u001B[49m\u001B[43mrenderer\u001B[49m\u001B[43m)\u001B[49m\n\u001B[1;32m   4399\u001B[0m axbbox \u001B[38;5;241m=\u001B[39m \u001B[38;5;28mself\u001B[39m\u001B[38;5;241m.\u001B[39mget_window_extent(renderer)\n\u001B[1;32m   4400\u001B[0m bb\u001B[38;5;241m.\u001B[39mappend(axbbox)\n",
      "File \u001B[0;32m~/anaconda3/lib/python3.9/site-packages/matplotlib/axes/_base.py:2969\u001B[0m, in \u001B[0;36m_AxesBase._update_title_position\u001B[0;34m(self, renderer)\u001B[0m\n\u001B[1;32m   2966\u001B[0m bb \u001B[38;5;241m=\u001B[39m \u001B[38;5;28;01mNone\u001B[39;00m\n\u001B[1;32m   2967\u001B[0m \u001B[38;5;28;01mif\u001B[39;00m (ax\u001B[38;5;241m.\u001B[39mxaxis\u001B[38;5;241m.\u001B[39mget_ticks_position() \u001B[38;5;129;01min\u001B[39;00m [\u001B[38;5;124m'\u001B[39m\u001B[38;5;124mtop\u001B[39m\u001B[38;5;124m'\u001B[39m, \u001B[38;5;124m'\u001B[39m\u001B[38;5;124munknown\u001B[39m\u001B[38;5;124m'\u001B[39m]\n\u001B[1;32m   2968\u001B[0m         \u001B[38;5;129;01mor\u001B[39;00m ax\u001B[38;5;241m.\u001B[39mxaxis\u001B[38;5;241m.\u001B[39mget_label_position() \u001B[38;5;241m==\u001B[39m \u001B[38;5;124m'\u001B[39m\u001B[38;5;124mtop\u001B[39m\u001B[38;5;124m'\u001B[39m):\n\u001B[0;32m-> 2969\u001B[0m     bb \u001B[38;5;241m=\u001B[39m \u001B[43max\u001B[49m\u001B[38;5;241;43m.\u001B[39;49m\u001B[43mxaxis\u001B[49m\u001B[38;5;241;43m.\u001B[39;49m\u001B[43mget_tightbbox\u001B[49m\u001B[43m(\u001B[49m\u001B[43mrenderer\u001B[49m\u001B[43m)\u001B[49m\n\u001B[1;32m   2970\u001B[0m \u001B[38;5;28;01mif\u001B[39;00m bb \u001B[38;5;129;01mis\u001B[39;00m \u001B[38;5;28;01mNone\u001B[39;00m:\n\u001B[1;32m   2971\u001B[0m     \u001B[38;5;28;01mif\u001B[39;00m \u001B[38;5;124m'\u001B[39m\u001B[38;5;124moutline\u001B[39m\u001B[38;5;124m'\u001B[39m \u001B[38;5;129;01min\u001B[39;00m ax\u001B[38;5;241m.\u001B[39mspines:\n\u001B[1;32m   2972\u001B[0m         \u001B[38;5;66;03m# Special case for colorbars:\u001B[39;00m\n",
      "File \u001B[0;32m~/anaconda3/lib/python3.9/site-packages/matplotlib/axis.py:1336\u001B[0m, in \u001B[0;36mAxis.get_tightbbox\u001B[0;34m(self, renderer, for_layout_only)\u001B[0m\n\u001B[1;32m   1333\u001B[0m     renderer \u001B[38;5;241m=\u001B[39m \u001B[38;5;28mself\u001B[39m\u001B[38;5;241m.\u001B[39mfigure\u001B[38;5;241m.\u001B[39m_get_renderer()\n\u001B[1;32m   1334\u001B[0m ticks_to_draw \u001B[38;5;241m=\u001B[39m \u001B[38;5;28mself\u001B[39m\u001B[38;5;241m.\u001B[39m_update_ticks()\n\u001B[0;32m-> 1336\u001B[0m \u001B[38;5;28;43mself\u001B[39;49m\u001B[38;5;241;43m.\u001B[39;49m\u001B[43m_update_label_position\u001B[49m\u001B[43m(\u001B[49m\u001B[43mrenderer\u001B[49m\u001B[43m)\u001B[49m\n\u001B[1;32m   1338\u001B[0m \u001B[38;5;66;03m# go back to just this axis's tick labels\u001B[39;00m\n\u001B[1;32m   1339\u001B[0m tlb1, tlb2 \u001B[38;5;241m=\u001B[39m \u001B[38;5;28mself\u001B[39m\u001B[38;5;241m.\u001B[39m_get_ticklabel_bboxes(ticks_to_draw, renderer)\n",
      "File \u001B[0;32m~/anaconda3/lib/python3.9/site-packages/matplotlib/axis.py:2368\u001B[0m, in \u001B[0;36mXAxis._update_label_position\u001B[0;34m(self, renderer)\u001B[0m\n\u001B[1;32m   2364\u001B[0m     \u001B[38;5;28;01mreturn\u001B[39;00m\n\u001B[1;32m   2366\u001B[0m \u001B[38;5;66;03m# get bounding boxes for this axis and any siblings\u001B[39;00m\n\u001B[1;32m   2367\u001B[0m \u001B[38;5;66;03m# that have been set by `fig.align_xlabels()`\u001B[39;00m\n\u001B[0;32m-> 2368\u001B[0m bboxes, bboxes2 \u001B[38;5;241m=\u001B[39m \u001B[38;5;28;43mself\u001B[39;49m\u001B[38;5;241;43m.\u001B[39;49m\u001B[43m_get_tick_boxes_siblings\u001B[49m\u001B[43m(\u001B[49m\u001B[43mrenderer\u001B[49m\u001B[38;5;241;43m=\u001B[39;49m\u001B[43mrenderer\u001B[49m\u001B[43m)\u001B[49m\n\u001B[1;32m   2370\u001B[0m x, y \u001B[38;5;241m=\u001B[39m \u001B[38;5;28mself\u001B[39m\u001B[38;5;241m.\u001B[39mlabel\u001B[38;5;241m.\u001B[39mget_position()\n\u001B[1;32m   2371\u001B[0m \u001B[38;5;28;01mif\u001B[39;00m \u001B[38;5;28mself\u001B[39m\u001B[38;5;241m.\u001B[39mlabel_position \u001B[38;5;241m==\u001B[39m \u001B[38;5;124m'\u001B[39m\u001B[38;5;124mbottom\u001B[39m\u001B[38;5;124m'\u001B[39m:\n",
      "File \u001B[0;32m~/anaconda3/lib/python3.9/site-packages/matplotlib/axis.py:2161\u001B[0m, in \u001B[0;36mAxis._get_tick_boxes_siblings\u001B[0;34m(self, renderer)\u001B[0m\n\u001B[1;32m   2159\u001B[0m axis \u001B[38;5;241m=\u001B[39m ax\u001B[38;5;241m.\u001B[39m_axis_map[name]\n\u001B[1;32m   2160\u001B[0m ticks_to_draw \u001B[38;5;241m=\u001B[39m axis\u001B[38;5;241m.\u001B[39m_update_ticks()\n\u001B[0;32m-> 2161\u001B[0m tlb, tlb2 \u001B[38;5;241m=\u001B[39m \u001B[43maxis\u001B[49m\u001B[38;5;241;43m.\u001B[39;49m\u001B[43m_get_ticklabel_bboxes\u001B[49m\u001B[43m(\u001B[49m\u001B[43mticks_to_draw\u001B[49m\u001B[43m,\u001B[49m\u001B[43m \u001B[49m\u001B[43mrenderer\u001B[49m\u001B[43m)\u001B[49m\n\u001B[1;32m   2162\u001B[0m bboxes\u001B[38;5;241m.\u001B[39mextend(tlb)\n\u001B[1;32m   2163\u001B[0m bboxes2\u001B[38;5;241m.\u001B[39mextend(tlb2)\n",
      "File \u001B[0;32m~/anaconda3/lib/python3.9/site-packages/matplotlib/axis.py:1315\u001B[0m, in \u001B[0;36mAxis._get_ticklabel_bboxes\u001B[0;34m(self, ticks, renderer)\u001B[0m\n\u001B[1;32m   1313\u001B[0m \u001B[38;5;28;01mif\u001B[39;00m renderer \u001B[38;5;129;01mis\u001B[39;00m \u001B[38;5;28;01mNone\u001B[39;00m:\n\u001B[1;32m   1314\u001B[0m     renderer \u001B[38;5;241m=\u001B[39m \u001B[38;5;28mself\u001B[39m\u001B[38;5;241m.\u001B[39mfigure\u001B[38;5;241m.\u001B[39m_get_renderer()\n\u001B[0;32m-> 1315\u001B[0m \u001B[38;5;28;01mreturn\u001B[39;00m ([tick\u001B[38;5;241m.\u001B[39mlabel1\u001B[38;5;241m.\u001B[39mget_window_extent(renderer)\n\u001B[1;32m   1316\u001B[0m          \u001B[38;5;28;01mfor\u001B[39;00m tick \u001B[38;5;129;01min\u001B[39;00m ticks \u001B[38;5;28;01mif\u001B[39;00m tick\u001B[38;5;241m.\u001B[39mlabel1\u001B[38;5;241m.\u001B[39mget_visible()],\n\u001B[1;32m   1317\u001B[0m         [tick\u001B[38;5;241m.\u001B[39mlabel2\u001B[38;5;241m.\u001B[39mget_window_extent(renderer)\n\u001B[1;32m   1318\u001B[0m          \u001B[38;5;28;01mfor\u001B[39;00m tick \u001B[38;5;129;01min\u001B[39;00m ticks \u001B[38;5;28;01mif\u001B[39;00m tick\u001B[38;5;241m.\u001B[39mlabel2\u001B[38;5;241m.\u001B[39mget_visible()])\n",
      "File \u001B[0;32m~/anaconda3/lib/python3.9/site-packages/matplotlib/axis.py:1315\u001B[0m, in \u001B[0;36m<listcomp>\u001B[0;34m(.0)\u001B[0m\n\u001B[1;32m   1313\u001B[0m \u001B[38;5;28;01mif\u001B[39;00m renderer \u001B[38;5;129;01mis\u001B[39;00m \u001B[38;5;28;01mNone\u001B[39;00m:\n\u001B[1;32m   1314\u001B[0m     renderer \u001B[38;5;241m=\u001B[39m \u001B[38;5;28mself\u001B[39m\u001B[38;5;241m.\u001B[39mfigure\u001B[38;5;241m.\u001B[39m_get_renderer()\n\u001B[0;32m-> 1315\u001B[0m \u001B[38;5;28;01mreturn\u001B[39;00m ([\u001B[43mtick\u001B[49m\u001B[38;5;241;43m.\u001B[39;49m\u001B[43mlabel1\u001B[49m\u001B[38;5;241;43m.\u001B[39;49m\u001B[43mget_window_extent\u001B[49m\u001B[43m(\u001B[49m\u001B[43mrenderer\u001B[49m\u001B[43m)\u001B[49m\n\u001B[1;32m   1316\u001B[0m          \u001B[38;5;28;01mfor\u001B[39;00m tick \u001B[38;5;129;01min\u001B[39;00m ticks \u001B[38;5;28;01mif\u001B[39;00m tick\u001B[38;5;241m.\u001B[39mlabel1\u001B[38;5;241m.\u001B[39mget_visible()],\n\u001B[1;32m   1317\u001B[0m         [tick\u001B[38;5;241m.\u001B[39mlabel2\u001B[38;5;241m.\u001B[39mget_window_extent(renderer)\n\u001B[1;32m   1318\u001B[0m          \u001B[38;5;28;01mfor\u001B[39;00m tick \u001B[38;5;129;01min\u001B[39;00m ticks \u001B[38;5;28;01mif\u001B[39;00m tick\u001B[38;5;241m.\u001B[39mlabel2\u001B[38;5;241m.\u001B[39mget_visible()])\n",
      "File \u001B[0;32m~/anaconda3/lib/python3.9/site-packages/matplotlib/text.py:956\u001B[0m, in \u001B[0;36mText.get_window_extent\u001B[0;34m(self, renderer, dpi)\u001B[0m\n\u001B[1;32m    951\u001B[0m     \u001B[38;5;28;01mraise\u001B[39;00m \u001B[38;5;167;01mRuntimeError\u001B[39;00m(\n\u001B[1;32m    952\u001B[0m         \u001B[38;5;124m\"\u001B[39m\u001B[38;5;124mCannot get window extent of text w/o renderer. You likely \u001B[39m\u001B[38;5;124m\"\u001B[39m\n\u001B[1;32m    953\u001B[0m         \u001B[38;5;124m\"\u001B[39m\u001B[38;5;124mwant to call \u001B[39m\u001B[38;5;124m'\u001B[39m\u001B[38;5;124mfigure.draw_without_rendering()\u001B[39m\u001B[38;5;124m'\u001B[39m\u001B[38;5;124m first.\u001B[39m\u001B[38;5;124m\"\u001B[39m)\n\u001B[1;32m    955\u001B[0m \u001B[38;5;28;01mwith\u001B[39;00m cbook\u001B[38;5;241m.\u001B[39m_setattr_cm(\u001B[38;5;28mself\u001B[39m\u001B[38;5;241m.\u001B[39mfigure, dpi\u001B[38;5;241m=\u001B[39mdpi):\n\u001B[0;32m--> 956\u001B[0m     bbox, info, descent \u001B[38;5;241m=\u001B[39m \u001B[38;5;28;43mself\u001B[39;49m\u001B[38;5;241;43m.\u001B[39;49m\u001B[43m_get_layout\u001B[49m\u001B[43m(\u001B[49m\u001B[38;5;28;43mself\u001B[39;49m\u001B[38;5;241;43m.\u001B[39;49m\u001B[43m_renderer\u001B[49m\u001B[43m)\u001B[49m\n\u001B[1;32m    957\u001B[0m     x, y \u001B[38;5;241m=\u001B[39m \u001B[38;5;28mself\u001B[39m\u001B[38;5;241m.\u001B[39mget_unitless_position()\n\u001B[1;32m    958\u001B[0m     x, y \u001B[38;5;241m=\u001B[39m \u001B[38;5;28mself\u001B[39m\u001B[38;5;241m.\u001B[39mget_transform()\u001B[38;5;241m.\u001B[39mtransform((x, y))\n",
      "File \u001B[0;32m~/anaconda3/lib/python3.9/site-packages/matplotlib/text.py:381\u001B[0m, in \u001B[0;36mText._get_layout\u001B[0;34m(self, renderer)\u001B[0m\n\u001B[1;32m    379\u001B[0m clean_line, ismath \u001B[38;5;241m=\u001B[39m \u001B[38;5;28mself\u001B[39m\u001B[38;5;241m.\u001B[39m_preprocess_math(line)\n\u001B[1;32m    380\u001B[0m \u001B[38;5;28;01mif\u001B[39;00m clean_line:\n\u001B[0;32m--> 381\u001B[0m     w, h, d \u001B[38;5;241m=\u001B[39m \u001B[43m_get_text_metrics_with_cache\u001B[49m\u001B[43m(\u001B[49m\n\u001B[1;32m    382\u001B[0m \u001B[43m        \u001B[49m\u001B[43mrenderer\u001B[49m\u001B[43m,\u001B[49m\u001B[43m \u001B[49m\u001B[43mclean_line\u001B[49m\u001B[43m,\u001B[49m\u001B[43m \u001B[49m\u001B[38;5;28;43mself\u001B[39;49m\u001B[38;5;241;43m.\u001B[39;49m\u001B[43m_fontproperties\u001B[49m\u001B[43m,\u001B[49m\n\u001B[1;32m    383\u001B[0m \u001B[43m        \u001B[49m\u001B[43mismath\u001B[49m\u001B[38;5;241;43m=\u001B[39;49m\u001B[43mismath\u001B[49m\u001B[43m,\u001B[49m\u001B[43m \u001B[49m\u001B[43mdpi\u001B[49m\u001B[38;5;241;43m=\u001B[39;49m\u001B[38;5;28;43mself\u001B[39;49m\u001B[38;5;241;43m.\u001B[39;49m\u001B[43mfigure\u001B[49m\u001B[38;5;241;43m.\u001B[39;49m\u001B[43mdpi\u001B[49m\u001B[43m)\u001B[49m\n\u001B[1;32m    384\u001B[0m \u001B[38;5;28;01melse\u001B[39;00m:\n\u001B[1;32m    385\u001B[0m     w \u001B[38;5;241m=\u001B[39m h \u001B[38;5;241m=\u001B[39m d \u001B[38;5;241m=\u001B[39m \u001B[38;5;241m0\u001B[39m\n",
      "File \u001B[0;32m~/anaconda3/lib/python3.9/site-packages/matplotlib/text.py:69\u001B[0m, in \u001B[0;36m_get_text_metrics_with_cache\u001B[0;34m(renderer, text, fontprop, ismath, dpi)\u001B[0m\n\u001B[1;32m     66\u001B[0m \u001B[38;5;250m\u001B[39m\u001B[38;5;124;03m\"\"\"Call ``renderer.get_text_width_height_descent``, caching the results.\"\"\"\u001B[39;00m\n\u001B[1;32m     67\u001B[0m \u001B[38;5;66;03m# Cached based on a copy of fontprop so that later in-place mutations of\u001B[39;00m\n\u001B[1;32m     68\u001B[0m \u001B[38;5;66;03m# the passed-in argument do not mess up the cache.\u001B[39;00m\n\u001B[0;32m---> 69\u001B[0m \u001B[38;5;28;01mreturn\u001B[39;00m \u001B[43m_get_text_metrics_with_cache_impl\u001B[49m\u001B[43m(\u001B[49m\n\u001B[1;32m     70\u001B[0m \u001B[43m    \u001B[49m\u001B[43mweakref\u001B[49m\u001B[38;5;241;43m.\u001B[39;49m\u001B[43mref\u001B[49m\u001B[43m(\u001B[49m\u001B[43mrenderer\u001B[49m\u001B[43m)\u001B[49m\u001B[43m,\u001B[49m\u001B[43m \u001B[49m\u001B[43mtext\u001B[49m\u001B[43m,\u001B[49m\u001B[43m \u001B[49m\u001B[43mfontprop\u001B[49m\u001B[38;5;241;43m.\u001B[39;49m\u001B[43mcopy\u001B[49m\u001B[43m(\u001B[49m\u001B[43m)\u001B[49m\u001B[43m,\u001B[49m\u001B[43m \u001B[49m\u001B[43mismath\u001B[49m\u001B[43m,\u001B[49m\u001B[43m \u001B[49m\u001B[43mdpi\u001B[49m\u001B[43m)\u001B[49m\n",
      "File \u001B[0;32m~/anaconda3/lib/python3.9/site-packages/matplotlib/text.py:77\u001B[0m, in \u001B[0;36m_get_text_metrics_with_cache_impl\u001B[0;34m(renderer_ref, text, fontprop, ismath, dpi)\u001B[0m\n\u001B[1;32m     73\u001B[0m \u001B[38;5;129m@functools\u001B[39m\u001B[38;5;241m.\u001B[39mlru_cache(\u001B[38;5;241m4096\u001B[39m)\n\u001B[1;32m     74\u001B[0m \u001B[38;5;28;01mdef\u001B[39;00m \u001B[38;5;21m_get_text_metrics_with_cache_impl\u001B[39m(\n\u001B[1;32m     75\u001B[0m         renderer_ref, text, fontprop, ismath, dpi):\n\u001B[1;32m     76\u001B[0m     \u001B[38;5;66;03m# dpi is unused, but participates in cache invalidation (via the renderer).\u001B[39;00m\n\u001B[0;32m---> 77\u001B[0m     \u001B[38;5;28;01mreturn\u001B[39;00m \u001B[43mrenderer_ref\u001B[49m\u001B[43m(\u001B[49m\u001B[43m)\u001B[49m\u001B[38;5;241;43m.\u001B[39;49m\u001B[43mget_text_width_height_descent\u001B[49m\u001B[43m(\u001B[49m\u001B[43mtext\u001B[49m\u001B[43m,\u001B[49m\u001B[43m \u001B[49m\u001B[43mfontprop\u001B[49m\u001B[43m,\u001B[49m\u001B[43m \u001B[49m\u001B[43mismath\u001B[49m\u001B[43m)\u001B[49m\n",
      "File \u001B[0;32m~/anaconda3/lib/python3.9/site-packages/matplotlib/backends/backend_agg.py:220\u001B[0m, in \u001B[0;36mRendererAgg.get_text_width_height_descent\u001B[0;34m(self, s, prop, ismath)\u001B[0m\n\u001B[1;32m    216\u001B[0m     ox, oy, width, height, descent, font_image \u001B[38;5;241m=\u001B[39m \\\n\u001B[1;32m    217\u001B[0m         \u001B[38;5;28mself\u001B[39m\u001B[38;5;241m.\u001B[39mmathtext_parser\u001B[38;5;241m.\u001B[39mparse(s, \u001B[38;5;28mself\u001B[39m\u001B[38;5;241m.\u001B[39mdpi, prop)\n\u001B[1;32m    218\u001B[0m     \u001B[38;5;28;01mreturn\u001B[39;00m width, height, descent\n\u001B[0;32m--> 220\u001B[0m font \u001B[38;5;241m=\u001B[39m \u001B[38;5;28;43mself\u001B[39;49m\u001B[38;5;241;43m.\u001B[39;49m\u001B[43m_prepare_font\u001B[49m\u001B[43m(\u001B[49m\u001B[43mprop\u001B[49m\u001B[43m)\u001B[49m\n\u001B[1;32m    221\u001B[0m font\u001B[38;5;241m.\u001B[39mset_text(s, \u001B[38;5;241m0.0\u001B[39m, flags\u001B[38;5;241m=\u001B[39mget_hinting_flag())\n\u001B[1;32m    222\u001B[0m w, h \u001B[38;5;241m=\u001B[39m font\u001B[38;5;241m.\u001B[39mget_width_height()  \u001B[38;5;66;03m# width and height of unrotated string\u001B[39;00m\n",
      "File \u001B[0;32m~/anaconda3/lib/python3.9/site-packages/matplotlib/backends/backend_agg.py:254\u001B[0m, in \u001B[0;36mRendererAgg._prepare_font\u001B[0;34m(self, font_prop)\u001B[0m\n\u001B[1;32m    250\u001B[0m \u001B[38;5;28;01mdef\u001B[39;00m \u001B[38;5;21m_prepare_font\u001B[39m(\u001B[38;5;28mself\u001B[39m, font_prop):\n\u001B[1;32m    251\u001B[0m \u001B[38;5;250m    \u001B[39m\u001B[38;5;124;03m\"\"\"\u001B[39;00m\n\u001B[1;32m    252\u001B[0m \u001B[38;5;124;03m    Get the `.FT2Font` for *font_prop*, clear its buffer, and set its size.\u001B[39;00m\n\u001B[1;32m    253\u001B[0m \u001B[38;5;124;03m    \"\"\"\u001B[39;00m\n\u001B[0;32m--> 254\u001B[0m     font \u001B[38;5;241m=\u001B[39m get_font(\u001B[43m_fontManager\u001B[49m\u001B[38;5;241;43m.\u001B[39;49m\u001B[43m_find_fonts_by_props\u001B[49m\u001B[43m(\u001B[49m\u001B[43mfont_prop\u001B[49m\u001B[43m)\u001B[49m)\n\u001B[1;32m    255\u001B[0m     font\u001B[38;5;241m.\u001B[39mclear()\n\u001B[1;32m    256\u001B[0m     size \u001B[38;5;241m=\u001B[39m font_prop\u001B[38;5;241m.\u001B[39mget_size_in_points()\n",
      "File \u001B[0;32m~/anaconda3/lib/python3.9/site-packages/matplotlib/font_manager.py:1348\u001B[0m, in \u001B[0;36mFontManager._find_fonts_by_props\u001B[0;34m(self, prop, fontext, directory, fallback_to_default, rebuild_if_missing)\u001B[0m\n\u001B[1;32m   1303\u001B[0m \u001B[38;5;28;01mdef\u001B[39;00m \u001B[38;5;21m_find_fonts_by_props\u001B[39m(\u001B[38;5;28mself\u001B[39m, prop, fontext\u001B[38;5;241m=\u001B[39m\u001B[38;5;124m'\u001B[39m\u001B[38;5;124mttf\u001B[39m\u001B[38;5;124m'\u001B[39m, directory\u001B[38;5;241m=\u001B[39m\u001B[38;5;28;01mNone\u001B[39;00m,\n\u001B[1;32m   1304\u001B[0m                          fallback_to_default\u001B[38;5;241m=\u001B[39m\u001B[38;5;28;01mTrue\u001B[39;00m, rebuild_if_missing\u001B[38;5;241m=\u001B[39m\u001B[38;5;28;01mTrue\u001B[39;00m):\n\u001B[1;32m   1305\u001B[0m \u001B[38;5;250m    \u001B[39m\u001B[38;5;124;03m\"\"\"\u001B[39;00m\n\u001B[1;32m   1306\u001B[0m \u001B[38;5;124;03m    Find font families that most closely match the given properties.\u001B[39;00m\n\u001B[1;32m   1307\u001B[0m \n\u001B[0;32m   (...)\u001B[0m\n\u001B[1;32m   1345\u001B[0m \u001B[38;5;124;03m    nearest neighbor search.  See `findfont` for more details.\u001B[39;00m\n\u001B[1;32m   1346\u001B[0m \u001B[38;5;124;03m    \"\"\"\u001B[39;00m\n\u001B[0;32m-> 1348\u001B[0m     prop \u001B[38;5;241m=\u001B[39m \u001B[43mFontProperties\u001B[49m\u001B[38;5;241;43m.\u001B[39;49m\u001B[43m_from_any\u001B[49m(prop)\n\u001B[1;32m   1350\u001B[0m     fpaths \u001B[38;5;241m=\u001B[39m []\n\u001B[1;32m   1351\u001B[0m     \u001B[38;5;28;01mfor\u001B[39;00m family \u001B[38;5;129;01min\u001B[39;00m prop\u001B[38;5;241m.\u001B[39mget_family():\n",
      "\u001B[0;31mKeyboardInterrupt\u001B[0m: "
     ]
    }
   ],
   "execution_count": null
  },
  {
   "cell_type": "code",
   "execution_count": null,
   "id": "ce9a1ced-f97f-48da-8b43-32bf9e0555e0",
   "metadata": {},
   "outputs": [],
   "source": [
    "# Optional: Save the plot\n",
    "# plt.savefig('data_visualization.png', dpi=300, bbox_inches='tight')\n",
    "\n",
    "# Display statistical summary\n",
    "print(\"\\nStatistical Summary P10:\")\n",
    "print(df10_clean.describe())\n",
    "\n",
    "print(\"\\nStatistical Summary P2.5:\")\n",
    "print(df25_clean.describe())"
   ]
  },
  {
   "cell_type": "code",
   "execution_count": null,
   "id": "3a194e34-fd6a-467f-9961-fc756abffe60",
   "metadata": {},
   "outputs": [],
   "source": [
    "# Display significant correlations (absolute value > 0.5)\n",
    "print(\"\\nSignificant correlations (absolute value > 0.5):\")\n",
    "significant_corr = pd.DataFrame()\n",
    "for column in correlation_matrix.columns:\n",
    "    for index in correlation_matrix.index:\n",
    "        if abs(correlation_matrix.loc[index, column]) > 0.5 and index != column:\n",
    "            significant_corr = pd.concat([significant_corr, \n",
    "                pd.DataFrame({'Variable 1': [index], \n",
    "                            'Variable 2': [column],\n",
    "                            'Correlation': [correlation_matrix.loc[index, column]]})\n",
    "            ])\n",
    "\n",
    "if not significant_corr.empty:\n",
    "    print(significant_corr.sort_values('Correlation', ascending=False))\n",
    "\n",
    "# Optional: Add subplot with individual line plots\n",
    "def plot_individual_trends(data, columns, rows=2, cols=2):\n",
    "    \"\"\"\n",
    "    Create individual line plots for specified columns\n",
    "    \"\"\"\n",
    "    fig, axes = plt.subplots(rows, cols, figsize=(15, 10))\n",
    "    axes = axes.ravel()\n",
    "    \n",
    "    for idx, column in enumerate(columns[:rows*cols]):\n",
    "        axes[idx].plot(data.index, data[column], linewidth=2)\n",
    "        axes[idx].set_title(f'{column} Over Time')\n",
    "        axes[idx].set_xlabel('Index')\n",
    "        axes[idx].set_ylabel('Value')\n",
    "        axes[idx].grid(True, linestyle='--', alpha=0.7)\n",
    "    \n",
    "    plt.tight_layout()\n",
    "    plt.show()"
   ]
  },
  {
   "cell_type": "code",
   "execution_count": null,
   "id": "1d10defe-393a-45b5-be7a-ad0a569fea76",
   "metadata": {},
   "outputs": [],
   "source": [
    "\n",
    "\n",
    "# Show the plot\n",
    "plt.show()"
   ]
  },
  {
   "cell_type": "code",
   "execution_count": null,
   "id": "bd9354d0-0adc-4069-bd3c-bbd4d41dc516",
   "metadata": {},
   "outputs": [],
   "source": []
  }
 ],
 "metadata": {
  "kernelspec": {
   "display_name": "Python 3 (ipykernel)",
   "language": "python",
   "name": "python3"
  },
  "language_info": {
   "codemirror_mode": {
    "name": "ipython",
    "version": 3
   },
   "file_extension": ".py",
   "mimetype": "text/x-python",
   "name": "python",
   "nbconvert_exporter": "python",
   "pygments_lexer": "ipython3",
   "version": "3.11.9"
  }
 },
 "nbformat": 4,
 "nbformat_minor": 5
}
